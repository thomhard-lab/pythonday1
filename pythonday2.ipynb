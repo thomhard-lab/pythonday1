{
 "cells": [
  {
   "cell_type": "code",
   "execution_count": 1,
   "metadata": {},
   "outputs": [
    {
     "name": "stdout",
     "output_type": "stream",
     "text": [
      "['aqua', 'sprite', 'cocacola', 'fanta']\n"
     ]
    }
   ],
   "source": [
    "kardus = ['aqua', 'sprite', 'cocacola', 'fanta']\n",
    "print(kardus)"
   ]
  },
  {
   "cell_type": "code",
   "execution_count": 2,
   "metadata": {},
   "outputs": [
    {
     "name": "stdout",
     "output_type": "stream",
     "text": [
      "sprite\n"
     ]
    }
   ],
   "source": [
    "botol = 'sprite'\n",
    "print(botol)"
   ]
  },
  {
   "cell_type": "code",
   "execution_count": 3,
   "metadata": {},
   "outputs": [
    {
     "name": "stdout",
     "output_type": "stream",
     "text": [
      "fanta\n"
     ]
    }
   ],
   "source": [
    "print(kardus[3])"
   ]
  },
  {
   "cell_type": "code",
   "execution_count": 4,
   "metadata": {},
   "outputs": [
    {
     "name": "stdout",
     "output_type": "stream",
     "text": [
      "fanta\n"
     ]
    }
   ],
   "source": [
    "print(kardus[-1])"
   ]
  },
  {
   "cell_type": "code",
   "execution_count": 5,
   "metadata": {},
   "outputs": [
    {
     "name": "stdout",
     "output_type": "stream",
     "text": [
      "['cleo', 'sprite', 'cocacola', 'fanta']\n"
     ]
    }
   ],
   "source": [
    "kardus[0]='cleo'\n",
    "print(kardus)"
   ]
  },
  {
   "cell_type": "code",
   "execution_count": 6,
   "metadata": {},
   "outputs": [
    {
     "name": "stdout",
     "output_type": "stream",
     "text": [
      "['cleo', 'sprite', 'cocacola', 80]\n"
     ]
    }
   ],
   "source": [
    "kardus[-1]=80\n",
    "print(kardus)"
   ]
  },
  {
   "cell_type": "code",
   "execution_count": 7,
   "metadata": {},
   "outputs": [
    {
     "name": "stdout",
     "output_type": "stream",
     "text": [
      "['sprite', 'cocacola']\n"
     ]
    }
   ],
   "source": [
    "print(kardus[1:3])"
   ]
  },
  {
   "cell_type": "code",
   "execution_count": 8,
   "metadata": {},
   "outputs": [
    {
     "name": "stdout",
     "output_type": "stream",
     "text": [
      "['sprite', 'cocacola', 80]\n"
     ]
    }
   ],
   "source": [
    "print(kardus[1:4])"
   ]
  },
  {
   "cell_type": "code",
   "execution_count": 9,
   "metadata": {},
   "outputs": [
    {
     "name": "stdout",
     "output_type": "stream",
     "text": [
      "['cleo', 'chitato', 'chiki', 'cheetos', 'jetzet', 'qtela', 'oreo', 'malkist', 'doritos', 'taro', 80]\n"
     ]
    }
   ],
   "source": [
    "kardus[1:3]=['chitato', 'chiki', 'cheetos', 'jetzet', 'qtela', 'oreo', 'malkist', 'doritos', 'taro']\n",
    "print(kardus)"
   ]
  },
  {
   "cell_type": "code",
   "execution_count": 10,
   "metadata": {},
   "outputs": [
    {
     "ename": "TypeError",
     "evalue": "'tuple' object does not support item assignment",
     "output_type": "error",
     "traceback": [
      "\u001b[1;31m---------------------------------------------------------------------------\u001b[0m",
      "\u001b[1;31mTypeError\u001b[0m                                 Traceback (most recent call last)",
      "\u001b[1;32m<ipython-input-10-4827384e8718>\u001b[0m in \u001b[0;36m<module>\u001b[1;34m\u001b[0m\n\u001b[0;32m      1\u001b[0m \u001b[0mkasir\u001b[0m\u001b[1;33m=\u001b[0m\u001b[1;33m(\u001b[0m\u001b[1;34m'aqua'\u001b[0m\u001b[1;33m,\u001b[0m \u001b[1;34m'sprite'\u001b[0m\u001b[1;33m,\u001b[0m \u001b[1;34m'cocacola'\u001b[0m\u001b[1;33m,\u001b[0m \u001b[1;34m'fanta'\u001b[0m\u001b[1;33m)\u001b[0m\u001b[1;33m\u001b[0m\u001b[1;33m\u001b[0m\u001b[0m\n\u001b[1;32m----> 2\u001b[1;33m \u001b[0mkasir\u001b[0m\u001b[1;33m[\u001b[0m\u001b[1;36m0\u001b[0m\u001b[1;33m]\u001b[0m\u001b[1;33m=\u001b[0m\u001b[1;34m'chitato'\u001b[0m\u001b[1;33m\u001b[0m\u001b[1;33m\u001b[0m\u001b[0m\n\u001b[0m",
      "\u001b[1;31mTypeError\u001b[0m: 'tuple' object does not support item assignment"
     ]
    }
   ],
   "source": [
    "kasir=('aqua', 'sprite', 'cocacola', 'fanta')\n",
    "kasir[0]='chitato'"
   ]
  },
  {
   "cell_type": "code",
   "execution_count": 11,
   "metadata": {},
   "outputs": [
    {
     "name": "stdout",
     "output_type": "stream",
     "text": [
      "{'aqua': 'nurdeka', 'sprite': 'arif', 'cocacola': 'thomas', 'fanta': 'tio'}\n"
     ]
    }
   ],
   "source": [
    "kardus_label={'aqua':'nurdeka', 'sprite':'arif', 'cocacola':'thomas', 'fanta':'tio'}\n",
    "print(kardus_label)"
   ]
  },
  {
   "cell_type": "code",
   "execution_count": 12,
   "metadata": {},
   "outputs": [
    {
     "name": "stdout",
     "output_type": "stream",
     "text": [
      "nurdeka\n"
     ]
    }
   ],
   "source": [
    "print(kardus_label['aqua'])"
   ]
  },
  {
   "cell_type": "code",
   "execution_count": 13,
   "metadata": {},
   "outputs": [
    {
     "name": "stdout",
     "output_type": "stream",
     "text": [
      "tio\n"
     ]
    }
   ],
   "source": [
    "print(kardus_label['fanta'])"
   ]
  },
  {
   "cell_type": "code",
   "execution_count": 14,
   "metadata": {},
   "outputs": [
    {
     "name": "stdout",
     "output_type": "stream",
     "text": [
      "{'aqua': 'nurdeka', 'sprite': 'arif', 'cocacola': 'thomas', 'fanta': 'tio', 'dancow': 'khafid'}\n"
     ]
    }
   ],
   "source": [
    "kardus_label['dancow']='khafid'\n",
    "print(kardus_label)"
   ]
  },
  {
   "cell_type": "code",
   "execution_count": 15,
   "metadata": {},
   "outputs": [
    {
     "name": "stdout",
     "output_type": "stream",
     "text": [
      "{'aqua': 'nurdeka', 'sprite': 'arif', 'cocacola': 'thomas', 'fanta': 'tio', 'dancow': 'khafid', 'baterai': ['ajie', 'husein']}\n"
     ]
    }
   ],
   "source": [
    "kardus_label['baterai']=['ajie','husein']\n",
    "print(kardus_label)"
   ]
  },
  {
   "cell_type": "code",
   "execution_count": 16,
   "metadata": {},
   "outputs": [
    {
     "name": "stdout",
     "output_type": "stream",
     "text": [
      "{'aqua': 'nurdeka', 'sprite': 'arif', 'cocacola': 'thomas', 'fanta': 'tio', 'dancow': 'khafid', 'baterai': ['ajie', 'husein'], 'mars': {'lampu': 'mars', 'gunting': 'mars'}}\n"
     ]
    }
   ],
   "source": [
    "kardus_label['mars']={'lampu': 'mars', 'gunting':'mars'}\n",
    "print(kardus_label)"
   ]
  },
  {
   "cell_type": "code",
   "execution_count": 21,
   "metadata": {},
   "outputs": [
    {
     "name": "stdout",
     "output_type": "stream",
     "text": [
      "fanta tidak ada di dalam kardus\n",
      "kardus berisi \n",
      "['cleo', 'chitato', 'chiki', 'cheetos', 'jetzet', 'qtela', 'oreo', 'malkist', 'doritos', 'taro', 80]\n"
     ]
    }
   ],
   "source": [
    "if 'fanta' in kardus :\n",
    "    print('fanta ada di dalam kardus')\n",
    "else :\n",
    "    print('fanta tidak ada di dalam kardus')\n",
    "    print('kardus berisi ')\n",
    "    print(kardus)"
   ]
  },
  {
   "cell_type": "code",
   "execution_count": 77,
   "metadata": {},
   "outputs": [],
   "source": [
    "while 'pringles' not in kardus:\n",
    "\n",
    "    if 'pringles' in kardus :\n",
    "        print('pringles ada di dalam kardus')\n",
    "        kardus.remove('pringles')\n",
    "        print('kardus berisi ')\n",
    "        print(kardus)\n",
    "\n",
    "    else :\n",
    "        print('pringles tidak ada di dalam kardus')\n",
    "        print('mencari taro')\n",
    "\n",
    "        if 'taro' in kardus :\n",
    "            print ('Taro ada di dalam kardus')\n",
    "            kardus.remove('taro')\n",
    "\n",
    "            if 'Qtela' in kardus :\n",
    "                print ('Qtela ada di dalam kardus')\n",
    "                kardus.remove('Qtela')\n",
    "\n",
    "            elif 'oreo' in kardus :\n",
    "                print ('Oreo ada di dalam kardus')\n",
    "                kardus.remove('oreo')\n",
    "\n",
    "            else :\n",
    "                print ('Qtela dan Oreo tidak ada di dalam kardus')\n",
    "                print ('membeli Qtela, oreo dan pringles')\n",
    "                kardus.extend(['qtela','oreo','pringles'])\n",
    "                print (' kardus berisi')\n",
    "                print(kardus)\n",
    "\n",
    "        else :\n",
    "            print ('Taro tidak ada di dalam kardus')\n",
    "            print ('membeli taro')\n",
    "            kardus.append('taro')\n",
    "            print('kardus berisi ')\n",
    "            print(kardus)\n",
    "\n"
   ]
  },
  {
   "cell_type": "code",
   "execution_count": 57,
   "metadata": {},
   "outputs": [],
   "source": [
    "kardus.remove('pringles')"
   ]
  },
  {
   "cell_type": "code",
   "execution_count": 80,
   "metadata": {},
   "outputs": [
    {
     "name": "stdout",
     "output_type": "stream",
     "text": [
      "kardus berisi 4 barang\n",
      "['taro', 'qtela', 'oreo', 'pringles']\n",
      "mengambil pringles\n",
      "pringles tidak ada di dalam kardus\n",
      "mencari taro\n",
      "Taro ada di dalam kardus\n",
      "Qtela dan Oreo tidak ada di dalam kardus\n",
      "membeli Qtela, oreo dan pringles\n",
      "kardus berisi 5 barang\n",
      "['taro', 'qtela', 'qtela', 'oreo', 'pringles']\n",
      "terjadi perulangan 1 kali\n"
     ]
    }
   ],
   "source": [
    "import random \n",
    "\n",
    "a = 0\n",
    "\n",
    "print('kardus berisi ' + str(len(kardus)) + ' barang')\n",
    "print(kardus)\n",
    "if 'pringles' in kardus:\n",
    "    kardus.remove('pringles')\n",
    "    print('mengambil pringles')\n",
    "\n",
    "while 'pringles' not in kardus:\n",
    "    a = a + 1\n",
    "    if 'pringles' in kardus :\n",
    "        print('pringles ada di dalam kardus')\n",
    "        del kardus[random.randint(0,len(kardus)-1)]\n",
    "        print('kardus berisi ' + str(len(kardus)) + ' barang')\n",
    "        print(kardus)\n",
    "\n",
    "    else :\n",
    "        print('pringles tidak ada di dalam kardus')\n",
    "        print('mencari taro')\n",
    "\n",
    "        if 'taro' in kardus :\n",
    "            print ('Taro ada di dalam kardus')\n",
    "            del kardus[random.randint(0,len(kardus)-1)]\n",
    "\n",
    "            if 'Qtela' in kardus :\n",
    "                print ('Qtela ada di dalam kardus')\n",
    "                del kardus[random.randint(0,len(kardus)-1)]\n",
    "                print (kardus)\n",
    "\n",
    "            elif 'oreo' in kardus :\n",
    "                print ('Oreo ada di dalam kardus')\n",
    "                del kardus[random.randint(0,len(kardus)-1)]\n",
    "                print (kardus)\n",
    "\n",
    "            else :\n",
    "                print ('Qtela dan Oreo tidak ada di dalam kardus')\n",
    "                print ('membeli Qtela, oreo dan pringles')\n",
    "                kardus.extend(['qtela','oreo','pringles'])\n",
    "                print('kardus berisi ' + str(len(kardus)) + ' barang')\n",
    "                print(kardus)\n",
    "\n",
    "        else :\n",
    "            print ('Taro tidak ada di dalam kardus')\n",
    "            print ('membeli taro')\n",
    "            kardus.append('taro')\n",
    "            print('kardus berisi ' + str(len(kardus)) + ' barang')\n",
    "            print(kardus)\n",
    "            \n",
    "print('terjadi perulangan ' + str(a) + ' kali' )\n"
   ]
  },
  {
   "cell_type": "code",
   "execution_count": 93,
   "metadata": {},
   "outputs": [
    {
     "name": "stdout",
     "output_type": "stream",
     "text": [
      "170\n",
      "130\n",
      "90\n",
      "50\n",
      "10\n",
      "-30\n"
     ]
    }
   ],
   "source": [
    "n = 210\n",
    "while n > 0:\n",
    "    n = n-40 # n -= 40\n",
    "    print (n)"
   ]
  },
  {
   "cell_type": "code",
   "execution_count": 94,
   "metadata": {},
   "outputs": [
    {
     "name": "stdout",
     "output_type": "stream",
     "text": [
      "Ketikan karakter:HALLO\n",
      "hallo\n",
      "Ketikan karakter:hallo\n",
      "hallo\n",
      "Ketikan karakter:stop\n",
      "stop\n"
     ]
    }
   ],
   "source": [
    "while True:\n",
    "    msg = input(\"Ketikan karakter:\").lower()\n",
    "    print(msg)\n",
    "    if msg == \"stop\":\n",
    "        break"
   ]
  },
  {
   "cell_type": "code",
   "execution_count": 103,
   "metadata": {},
   "outputs": [
    {
     "name": "stdout",
     "output_type": "stream",
     "text": [
      "Ketikkan temperatur yang ingin dikonversi, eg.45F, 120C: 33C\n",
      "temperaturenya adalah  37 derajat Fahrenhait\n"
     ]
    }
   ],
   "source": [
    "temp = input (\"Ketikkan temperatur yang ingin dikonversi, eg.45F, 120C: \")\n",
    "degree = int(temp[:1])\n",
    "i_convertion = temp[-1]\n",
    "\n",
    "if i_convertion == \"C\":\n",
    "    result = int(round(9 * degree) / 5 + 32)\n",
    "elif i_convertion == \"F\":\n",
    "    result = int(round(degree - 32) * 5 / 9)\n",
    "else:\n",
    "    print(\"masukan input yang benar\")\n",
    "if i_convertion == \"C\":\n",
    "    print(\"temperaturenya adalah \", result, \"derajat Fahrenhait\")\n",
    "elif i_convertion == \"F\":\n",
    "    print(\"temperaturenya adalah \", result, \"derajat Celcius\")"
   ]
  },
  {
   "cell_type": "code",
   "execution_count": null,
   "metadata": {},
   "outputs": [],
   "source": []
  }
 ],
 "metadata": {
  "kernelspec": {
   "display_name": "Python 3",
   "language": "python",
   "name": "python3"
  },
  "language_info": {
   "codemirror_mode": {
    "name": "ipython",
    "version": 3
   },
   "file_extension": ".py",
   "mimetype": "text/x-python",
   "name": "python",
   "nbconvert_exporter": "python",
   "pygments_lexer": "ipython3",
   "version": "3.8.3"
  }
 },
 "nbformat": 4,
 "nbformat_minor": 4
}
